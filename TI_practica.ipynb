{
 "cells": [
  {
   "cell_type": "code",
   "execution_count": 1,
   "metadata": {},
   "outputs": [],
   "source": [
    "import matplotlib.pyplot as plt\n",
    "import pandas as pd\n",
    "import numpy as np\n",
    "from utils import *"
   ]
  },
  {
   "cell_type": "raw",
   "metadata": {},
   "source": [
    "from_files = [\"./DatosSinapsisArtificial/TrozoC.txt\",\n",
    "              \"./DatosSinapsisArtificial/TrozoR.txt\",\n",
    "              \"./DatosSinapsisArtificial/TrozoG.txt\"]\n",
    "cols = [[\"LP\", \"VD\"],\n",
    "        [\"LP\", \"VD\"],\n",
    "        [\"LP\", \"VD\", \"GABA\"]]\n",
    "thresholds = [{\"LP\": [0.3, 0.1], \"VD\": [0.25, 0.1]},\n",
    "              {\"LP\": [0.3, 0.1], \"VD\": [0.25, 0.1]},\n",
    "              {\"LP\": [0.3, 0.1], \"VD\": [0.25, 0.1]}]\n",
    "to_files = [\"./DatosSinapsisArtificial/TrozoC_bin.csv\",\n",
    "            \"./DatosSinapsisArtificial/TrozoR_bin.csv\",\n",
    "            \"./DatosSinapsisArtificial/TrozoG_bin.csv\"]\n",
    "\n",
    "for i in range(len(from_files)):\n",
    "    df = pd.read_csv(from_files[i], skiprows=3, \n",
    "                     header=None, names=cols[i], dtype=np.float, sep='\\s+', decimal=',', index_col=False)\n",
    "    for col in thresholds[i].keys():\n",
    "        get_spikes(df, col, t_ini=thresholds[i][col][0], t_fin=thresholds[i][col][0])\n",
    "    df.to_csv(to_files[i])"
   ]
  },
  {
   "cell_type": "code",
   "execution_count": 2,
   "metadata": {},
   "outputs": [],
   "source": [
    "df = pd.read_csv(\"./DatosSinapsisArtificial/TrozoC_LP_VD_bin.csv\")[[\"LP_bin\", \"VD_bin\"]]"
   ]
  },
  {
   "cell_type": "code",
   "execution_count": 3,
   "metadata": {},
   "outputs": [
    {
     "data": {
      "text/html": [
       "<div>\n",
       "<style scoped>\n",
       "    .dataframe tbody tr th:only-of-type {\n",
       "        vertical-align: middle;\n",
       "    }\n",
       "\n",
       "    .dataframe tbody tr th {\n",
       "        vertical-align: top;\n",
       "    }\n",
       "\n",
       "    .dataframe thead th {\n",
       "        text-align: right;\n",
       "    }\n",
       "</style>\n",
       "<table border=\"1\" class=\"dataframe\">\n",
       "  <thead>\n",
       "    <tr style=\"text-align: right;\">\n",
       "      <th></th>\n",
       "      <th>LP_bin</th>\n",
       "      <th>VD_bin</th>\n",
       "    </tr>\n",
       "  </thead>\n",
       "  <tbody>\n",
       "    <tr>\n",
       "      <th>0</th>\n",
       "      <td>0</td>\n",
       "      <td>0</td>\n",
       "    </tr>\n",
       "    <tr>\n",
       "      <th>1</th>\n",
       "      <td>0</td>\n",
       "      <td>0</td>\n",
       "    </tr>\n",
       "    <tr>\n",
       "      <th>2</th>\n",
       "      <td>0</td>\n",
       "      <td>0</td>\n",
       "    </tr>\n",
       "    <tr>\n",
       "      <th>3</th>\n",
       "      <td>0</td>\n",
       "      <td>0</td>\n",
       "    </tr>\n",
       "    <tr>\n",
       "      <th>4</th>\n",
       "      <td>0</td>\n",
       "      <td>0</td>\n",
       "    </tr>\n",
       "  </tbody>\n",
       "</table>\n",
       "</div>"
      ],
      "text/plain": [
       "   LP_bin  VD_bin\n",
       "0       0       0\n",
       "1       0       0\n",
       "2       0       0\n",
       "3       0       0\n",
       "4       0       0"
      ]
     },
     "execution_count": 3,
     "metadata": {},
     "output_type": "execute_result"
    }
   ],
   "source": [
    "df.head()"
   ]
  },
  {
   "cell_type": "code",
   "execution_count": 4,
   "metadata": {},
   "outputs": [
    {
     "name": "stdout",
     "output_type": "stream",
     "text": [
      "CPU times: user 21.3 s, sys: 1.38 s, total: 22.6 s\n",
      "Wall time: 22.6 s\n"
     ]
    },
    {
     "data": {
      "text/plain": [
       "2.0614755821476982e-06"
      ]
     },
     "execution_count": 4,
     "metadata": {},
     "output_type": "execute_result"
    }
   ],
   "source": [
    "%%time\n",
    "mutual_info(df, ['LP_bin', 'VD_bin'], 1)"
   ]
  },
  {
   "cell_type": "code",
   "execution_count": 5,
   "metadata": {},
   "outputs": [
    {
     "name": "stdout",
     "output_type": "stream",
     "text": [
      "CPU times: user 32min 44s, sys: 6.31 s, total: 32min 51s\n",
      "Wall time: 32min 52s\n"
     ]
    },
    {
     "data": {
      "text/plain": [
       "7.4095807517035595e-06"
      ]
     },
     "execution_count": 5,
     "metadata": {},
     "output_type": "execute_result"
    }
   ],
   "source": [
    "%%time\n",
    "mutual_info(df, ['LP_bin', 'VD_bin'], 2)"
   ]
  }
 ],
 "metadata": {
  "kernelspec": {
   "display_name": "Python 3",
   "language": "python",
   "name": "python3"
  },
  "language_info": {
   "codemirror_mode": {
    "name": "ipython",
    "version": 3
   },
   "file_extension": ".py",
   "mimetype": "text/x-python",
   "name": "python",
   "nbconvert_exporter": "python",
   "pygments_lexer": "ipython3",
   "version": "3.8.5"
  }
 },
 "nbformat": 4,
 "nbformat_minor": 4
}
