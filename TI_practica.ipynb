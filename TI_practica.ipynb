{
 "cells": [
  {
   "cell_type": "code",
   "execution_count": 1,
   "metadata": {},
   "outputs": [],
   "source": [
    "import matplotlib.pyplot as plt\n",
    "import pandas as pd\n",
    "import numpy as np\n",
    "from utils import *\n",
    "import pickle"
   ]
  },
  {
   "cell_type": "raw",
   "metadata": {},
   "source": [
    "from_files = [\"./DatosSinapsisArtificial/TrozoC.txt\",\n",
    "              \"./DatosSinapsisArtificial/TrozoR.txt\",\n",
    "              \"./DatosSinapsisArtificial/TrozoG.txt\"]\n",
    "cols = [[\"LP\", \"VD\"],\n",
    "        [\"LP\", \"VD\"],\n",
    "        [\"LP\", \"VD\", \"GABA\"]]\n",
    "thresholds = [{\"LP\": [0.3, 0.1], \"VD\": [0.25, 0.1]},\n",
    "              {\"LP\": [0.3, 0.1], \"VD\": [0.25, 0.1]},\n",
    "              {\"LP\": [0.3, 0.1], \"VD\": [0.25, 0.1]}]\n",
    "to_files = [\"./DatosSinapsisArtificial/TrozoC_bin.csv\",\n",
    "            \"./DatosSinapsisArtificial/TrozoR_bin.csv\",\n",
    "            \"./DatosSinapsisArtificial/TrozoG_bin.csv\"]\n",
    "\n",
    "for i in range(len(from_files)):\n",
    "    df = pd.read_csv(from_files[i], skiprows=3, \n",
    "                     header=None, names=cols[i], dtype=np.float, sep='\\s+', decimal=',', index_col=False)\n",
    "    for col in thresholds[i].keys():\n",
    "        get_spikes(df, col, t_ini=thresholds[i][col][0], t_fin=thresholds[i][col][0])\n",
    "    df.to_csv(to_files[i])"
   ]
  },
  {
   "cell_type": "code",
   "execution_count": 45,
   "metadata": {},
   "outputs": [],
   "source": [
    "df = pd.read_csv(\"./DatosSinapsisArtificial/TrozoC_LP_VD_bin.csv\")[['LP_bin', 'VD_bin']]\n",
    "df = df.astype({\"LP_bin\":'u1', \"VD_bin\":'u1'})"
   ]
  },
  {
   "cell_type": "code",
   "execution_count": 3,
   "metadata": {},
   "outputs": [
    {
     "data": {
      "text/plain": [
       "LP_bin    uint8\n",
       "VD_bin    uint8\n",
       "dtype: object"
      ]
     },
     "execution_count": 3,
     "metadata": {},
     "output_type": "execute_result"
    }
   ],
   "source": [
    "df.dtypes"
   ]
  },
  {
   "cell_type": "code",
   "execution_count": 59,
   "metadata": {},
   "outputs": [],
   "source": [
    "with open(data_file, \"wb\") as f:\n",
    "    pickle.dump(data, f)"
   ]
  },
  {
   "cell_type": "code",
   "execution_count": 60,
   "metadata": {},
   "outputs": [],
   "source": [
    "data_file = \"dataC.pkl\"\n",
    "try:\n",
    "    with open(data_file, \"rb\") as f:\n",
    "        data = pickle.load(f)\n",
    "except FileNotFoundError:\n",
    "    data = np.zeros((14,8))"
   ]
  },
  {
   "cell_type": "code",
   "execution_count": 62,
   "metadata": {
    "scrolled": true
   },
   "outputs": [
    {
     "name": "stdout",
     "output_type": "stream",
     "text": [
      "Previamente calculado: resolución=1, ventana=1 en la posicion[0][0], valor=2.0614755821476982e-06\n",
      "Previamente calculado: resolución=1, ventana=2 en la posicion[0][1], valor=7.4095807517035595e-06\n",
      "Previamente calculado: resolución=1, ventana=3 en la posicion[0][2], valor=1.7711440774462184e-05\n",
      "Previamente calculado: resolución=1, ventana=4 en la posicion[0][3], valor=3.1902582232123944e-05\n",
      "Previamente calculado: resolución=1, ventana=5 en la posicion[0][4], valor=4.955434285208726e-05\n",
      "Previamente calculado: resolución=1, ventana=6 en la posicion[0][5], valor=7.145569919383976e-05\n",
      "Previamente calculado: resolución=1, ventana=7 en la posicion[0][6], valor=9.687272837563543e-05\n",
      "Previamente calculado: resolución=1, ventana=8 en la posicion[0][7], valor=0.00012617250173557748\n",
      "Previamente calculado: resolución=2, ventana=1 en la posicion[1][0], valor=7.854290998060565e-06\n",
      "Previamente calculado: resolución=2, ventana=2 en la posicion[1][1], valor=3.114204515242136e-05\n",
      "Previamente calculado: resolución=2, ventana=3 en la posicion[1][2], valor=6.966143159303773e-05\n",
      "Previamente calculado: resolución=2, ventana=4 en la posicion[1][3], valor=0.000122853016585045\n",
      "Previamente calculado: resolución=2, ventana=5 en la posicion[1][4], valor=0.0001898159736229421\n",
      "Previamente calculado: resolución=2, ventana=6 en la posicion[1][5], valor=0.0002708435211637994\n",
      "Previamente calculado: resolución=2, ventana=7 en la posicion[1][6], valor=0.0003681056506226188\n",
      "Previamente calculado: resolución=2, ventana=8 en la posicion[1][7], valor=0.00047932175982656755\n",
      "Previamente calculado: resolución=3, ventana=1 en la posicion[2][0], valor=1.7412072798470013e-05\n",
      "Previamente calculado: resolución=3, ventana=2 en la posicion[2][1], valor=6.942865384940156e-05\n",
      "Previamente calculado: resolución=3, ventana=3 en la posicion[2][2], valor=0.00015661216080709028\n",
      "Previamente calculado: resolución=3, ventana=4 en la posicion[2][3], valor=0.0002721319377861353\n",
      "Previamente calculado: resolución=3, ventana=5 en la posicion[2][4], valor=0.0004226590799865093\n",
      "Previamente calculado: resolución=3, ventana=6 en la posicion[2][5], valor=0.0006087490466034073\n",
      "Previamente calculado: resolución=3, ventana=7 en la posicion[2][6], valor=0.0008308794246840723\n",
      "Previamente calculado: resolución=3, ventana=8 en la posicion[2][7], valor=0.0010855100732124479\n",
      "Previamente calculado: resolución=4, ventana=1 en la posicion[3][0], valor=3.0752803378331084e-05\n",
      "Previamente calculado: resolución=4, ventana=2 en la posicion[3][1], valor=0.00012381428875926637\n",
      "Previamente calculado: resolución=4, ventana=3 en la posicion[3][2], valor=0.000273134128193131\n",
      "Previamente calculado: resolución=4, ventana=4 en la posicion[3][3], valor=0.0004802288082912387\n",
      "Previamente calculado: resolución=4, ventana=5 en la posicion[3][4], valor=0.0007509853550272672\n",
      "Previamente calculado: resolución=4, ventana=6 en la posicion[3][5], valor=0.001086711628531467\n",
      "Previamente calculado: resolución=4, ventana=7 en la posicion[3][6], valor=0.001483322967792966\n",
      "Previamente calculado: resolución=4, ventana=8 en la posicion[3][7], valor=0.0019413264794940766\n",
      "Previamente calculado: resolución=5, ventana=1 en la posicion[4][0], valor=4.697383279672618e-05\n",
      "Previamente calculado: resolución=5, ventana=2 en la posicion[4][1], valor=0.00019435936353809358\n",
      "Previamente calculado: resolución=5, ventana=3 en la posicion[4][2], valor=0.0004251645030886042\n",
      "Previamente calculado: resolución=5, ventana=4 en la posicion[4][3], valor=0.0007533993236856218\n",
      "Previamente calculado: resolución=5, ventana=5 en la posicion[4][4], valor=0.001180645333141106\n",
      "Previamente calculado: resolución=5, ventana=6 en la posicion[4][5], valor=0.0017085125562061876\n",
      "Previamente calculado: resolución=5, ventana=7 en la posicion[4][6], valor=0.0023403889565721814\n",
      "Previamente calculado: resolución=5, ventana=8 en la posicion[4][7], valor=0.0030764755927535914\n",
      "Previamente calculado: resolución=6, ventana=1 en la posicion[5][0], valor=6.885736570880208e-05\n",
      "Previamente calculado: resolución=6, ventana=2 en la posicion[5][1], valor=0.0002725834132678573\n",
      "Previamente calculado: resolución=6, ventana=3 en la posicion[5][2], valor=0.0006101233761254266\n",
      "Previamente calculado: resolución=6, ventana=4 en la posicion[5][3], valor=0.0010856434504146195\n",
      "Previamente calculado: resolución=6, ventana=5 en la posicion[5][4], valor=0.001708626599524199\n",
      "Previamente calculado: resolución=6, ventana=6 en la posicion[5][5], valor=0.002470669544130999\n",
      "Previamente calculado: resolución=6, ventana=7 en la posicion[5][6], valor=0.0033969369803197313\n",
      "Previamente calculado: resolución=6, ventana=8 en la posicion[5][7], valor=0.004464477615294449\n",
      "Previamente calculado: resolución=7, ventana=1 en la posicion[6][0], valor=9.497141121198038e-05\n",
      "Previamente calculado: resolución=7, ventana=2 en la posicion[6][1], valor=0.0003672422647590934\n",
      "Previamente calculado: resolución=7, ventana=3 en la posicion[6][2], valor=0.0008252209328684645\n",
      "Previamente calculado: resolución=7, ventana=4 en la posicion[6][3], valor=0.0014757726037454288\n",
      "Previamente calculado: resolución=7, ventana=5 en la posicion[6][4], valor=0.0023149314454475878\n",
      "Previamente calculado: resolución=7, ventana=6 en la posicion[6][5], valor=0.0033739897979007116\n",
      "Previamente calculado: resolución=7, ventana=7 en la posicion[6][6], valor=0.00463599137775339\n",
      "Previamente calculado: resolución=7, ventana=8 en la posicion[6][7], valor=0.006127389039158659\n",
      "Previamente calculado: resolución=8, ventana=1 en la posicion[7][0], valor=0.00012381417491336144\n",
      "Previamente calculado: resolución=8, ventana=2 en la posicion[7][1], valor=0.0004763941785689285\n",
      "Previamente calculado: resolución=8, ventana=3 en la posicion[7][2], valor=0.0010827267491336778\n",
      "Previamente calculado: resolución=8, ventana=4 en la posicion[7][3], valor=0.001934126774912448\n",
      "Previamente calculado: resolución=8, ventana=5 en la posicion[7][4], valor=0.003061700910301557\n",
      "Previamente calculado: resolución=8, ventana=6 en la posicion[7][5], valor=0.004456148122391701\n",
      "Previamente calculado: resolución=8, ventana=7 en la posicion[7][6], valor=0.0061342024360877545\n",
      "Previamente calculado: resolución=8, ventana=8 en la posicion[7][7], valor=0.008118789798019499\n",
      "Comienzo cálculo resolución=9, ventana=1 en la posicion[8][0]\n",
      "Entropia primera columna: 0.11036655268390214\n",
      "Entropia segunda columna: 0.08107858055864561\n",
      "Entropia conjunta: 0.19129356399199182\n",
      "Calculado: resolución=9, ventana=1 en la posicion[8][0], valor=0.0001515692505559274\n",
      "Comienzo cálculo resolución=9, ventana=2 en la posicion[8][1]\n",
      "Entropia primera columna: 0.22043000555199027\n",
      "Entropia segunda columna: 0.16201443050948042\n",
      "Entropia conjunta: 0.3818428740572132\n",
      "Calculado: resolución=9, ventana=2 en la posicion[8][1], valor=0.0006015620042575387\n",
      "Comienzo cálculo resolución=9, ventana=3 en la posicion[8][2]\n",
      "Entropia primera columna: 0.3302705991532557\n",
      "Entropia segunda columna: 0.2428123263040766\n",
      "Entropia conjunta: 0.5717228575047897\n",
      "Calculado: resolución=9, ventana=3 en la posicion[8][2], valor=0.0013600679525426207\n",
      "Comienzo cálculo resolución=9, ventana=4 en la posicion[8][3]\n",
      "Entropia primera columna: 0.43998265486559074\n",
      "Entropia segunda columna: 0.3234785623118232\n",
      "Entropia conjunta: 0.7610113600345391\n",
      "Calculado: resolución=9, ventana=4 en la posicion[8][3], valor=0.002449857142874934\n",
      "Comienzo cálculo resolución=9, ventana=5 en la posicion[8][4]\n",
      "Entropia primera columna: 0.5495047129835022\n",
      "Entropia segunda columna: 0.4040092361339044\n",
      "Entropia conjunta: 0.949628056394786\n",
      "Calculado: resolución=9, ventana=5 en la posicion[8][4], valor=0.003885892722620632\n",
      "Comienzo cálculo resolución=9, ventana=6 en la posicion[8][5]\n",
      "Entropia primera columna: 0.6588577054699494\n",
      "Entropia segunda columna: 0.48439749792300724\n",
      "Entropia conjunta: 1.1375879494153787\n",
      "Calculado: resolución=9, ventana=6 en la posicion[8][5], valor=0.005667253977577946\n",
      "Comienzo cálculo resolución=9, ventana=7 en la posicion[8][6]\n",
      "Entropia primera columna: 0.7679486406132898\n",
      "Entropia segunda columna: 0.5646332804811671\n",
      "Entropia conjunta: 1.3247418330566096\n",
      "Calculado: resolución=9, ventana=7 en la posicion[8][6], valor=0.007840088037847304\n",
      "Comienzo cálculo resolución=9, ventana=8 en la posicion[8][7]\n"
     ]
    },
    {
     "name": "stdout",
     "output_type": "stream",
     "text": [
      "Entropia primera columna: 0.8767567519653664\n",
      "Entropia segunda columna: 0.6447421538876463\n",
      "Entropia conjunta: 1.5110776748647492\n",
      "Calculado: resolución=9, ventana=8 en la posicion[8][7], valor=0.010421230988263641\n",
      "Comienzo cálculo resolución=10, ventana=1 en la posicion[9][0]\n",
      "Entropia primera columna: 0.12013238973870273\n",
      "Entropia segunda columna: 0.08838206651293776\n",
      "Entropia conjunta: 0.20831357735058048\n",
      "Calculado: resolución=10, ventana=1 en la posicion[9][0], valor=0.00020087890106001982\n",
      "Comienzo cálculo resolución=10, ventana=2 en la posicion[9][1]\n",
      "Entropia primera columna: 0.23989585208493652\n",
      "Entropia segunda columna: 0.17659437532659064\n",
      "Entropia conjunta: 0.41573056464054914\n",
      "Calculado: resolución=10, ventana=2 en la posicion[9][1], valor=0.0007596627709780535\n",
      "Comienzo cálculo resolución=10, ventana=3 en la posicion[9][2]\n",
      "Entropia primera columna: 0.3594162910217686\n",
      "Entropia segunda columna: 0.2646380476959909\n",
      "Entropia conjunta: 0.6223409349203494\n",
      "Calculado: resolución=10, ventana=3 en la posicion[9][2], valor=0.0017134037974101402\n",
      "Comienzo cálculo resolución=10, ventana=4 en la posicion[9][3]\n",
      "Entropia primera columna: 0.4787647511877171\n",
      "Entropia segunda columna: 0.35251680715400674\n",
      "Entropia conjunta: 0.8281978330044183\n",
      "Calculado: resolución=10, ventana=4 en la posicion[9][3], valor=0.0030837253373056095\n",
      "Comienzo cálculo resolución=10, ventana=5 en la posicion[9][4]\n",
      "Entropia primera columna: 0.5978814825073349\n",
      "Entropia segunda columna: 0.440219735395183\n",
      "Entropia conjunta: 1.0332349664687692\n",
      "Calculado: resolución=10, ventana=5 en la posicion[9][4], valor=0.004866251433748747\n",
      "Comienzo cálculo resolución=10, ventana=6 en la posicion[9][5]\n",
      "Entropia primera columna: 0.7167517367582336\n",
      "Entropia segunda columna: 0.5277390379758683\n",
      "Entropia conjunta: 1.2373878464525834\n",
      "Calculado: resolución=10, ventana=6 en la posicion[9][5], valor=0.0071029282815184835\n",
      "Comienzo cálculo resolución=10, ventana=7 en la posicion[9][6]\n",
      "Entropia primera columna: 0.8352645732220823\n",
      "Entropia segunda columna: 0.6150854817380427\n",
      "Entropia conjunta: 1.4405090853596128\n",
      "Calculado: resolución=10, ventana=7 en la posicion[9][6], valor=0.009840969600512173\n",
      "Comienzo cálculo resolución=10, ventana=8 en la posicion[9][7]\n",
      "Entropia primera columna: 0.9534322419298964\n",
      "Entropia segunda columna: 0.7024172671915112\n",
      "Entropia conjunta: 1.642778770752487\n",
      "Calculado: resolución=10, ventana=8 en la posicion[9][7], valor=0.013070738368920587\n",
      "Comienzo cálculo resolución=11, ventana=1 en la posicion[10][0]\n",
      "Entropia primera columna: 0.12965873146063847\n",
      "Entropia segunda columna: 0.09552244892199968\n",
      "Entropia conjunta: 0.22494119035476196\n",
      "Calculado: resolución=11, ventana=1 en la posicion[10][0], valor=0.00023999002787619683\n",
      "Comienzo cálculo resolución=11, ventana=2 en la posicion[10][1]\n",
      "Entropia primera columna: 0.25887576581204197\n",
      "Entropia segunda columna: 0.190830203578465\n",
      "Entropia conjunta: 0.44878178737146845\n",
      "Calculado: resolución=11, ventana=2 en la posicion[10][1], valor=0.0009241820190385441\n",
      "Comienzo cálculo resolución=11, ventana=3 en la posicion[10][2]\n",
      "Entropia primera columna: 0.3878493475526707\n",
      "Entropia segunda columna: 0.28594439967886165\n",
      "Entropia conjunta: 0.6717263272068079\n",
      "Calculado: resolución=11, ventana=3 en la posicion[10][2], valor=0.0020674200247243757\n",
      "Comienzo cálculo resolución=11, ventana=4 en la posicion[10][3]\n",
      "Entropia primera columna: 0.5165761025106332\n",
      "Entropia segunda columna: 0.38085650202358534\n",
      "Entropia conjunta: 0.8936977833392452\n",
      "Calculado: resolución=11, ventana=4 en la posicion[10][3], valor=0.00373482119497337\n",
      "Comienzo cálculo resolución=11, ventana=5 en la posicion[10][4]\n",
      "Entropia primera columna: 0.6450366211658871\n",
      "Entropia segunda columna: 0.47554977174204843\n",
      "Entropia conjunta: 1.1146782198343397\n",
      "Calculado: resolución=11, ventana=5 en la posicion[10][4], valor=0.005908173073595924\n",
      "Comienzo cálculo resolución=11, ventana=6 en la posicion[10][5]\n",
      "Entropia primera columna: 0.7731066199821954\n",
      "Entropia segunda columna: 0.5700127988557206\n",
      "Entropia conjunta: 1.3344597634088475\n",
      "Calculado: resolución=11, ventana=6 en la posicion[10][5], valor=0.008659655429068547\n",
      "Comienzo cálculo resolución=11, ventana=7 en la posicion[10][6]\n",
      "Entropia primera columna: 0.9007581188986465\n",
      "Entropia segunda columna: 0.6643830107508983\n",
      "Entropia conjunta: 1.5531325040245068\n",
      "Calculado: resolución=11, ventana=7 en la posicion[10][6], valor=0.012008625625038238\n",
      "Comienzo cálculo resolución=11, ventana=8 en la posicion[10][7]\n",
      "Entropia primera columna: 1.0279922132415795\n",
      "Entropia segunda columna: 0.7586463398128342\n",
      "Entropia conjunta: 1.7706662696283575\n",
      "Calculado: resolución=11, ventana=8 en la posicion[10][7], valor=0.015972283426056277\n",
      "Comienzo cálculo resolución=12, ventana=1 en la posicion[11][0]\n",
      "Entropia primera columna: 0.1389671579618114\n",
      "Entropia segunda columna: 0.10251451053802499\n",
      "Entropia conjunta: 0.24121230403145438\n",
      "Calculado: resolución=12, ventana=1 en la posicion[11][0], valor=0.000269364468381994\n",
      "Comienzo cálculo resolución=12, ventana=2 en la posicion[11][1]\n",
      "Entropia primera columna: 0.27741663605124506\n",
      "Entropia segunda columna: 0.20476690842436301\n",
      "Entropia conjunta: 0.4811135025574402\n",
      "Calculado: resolución=12, ventana=2 en la posicion[11][1], valor=0.0010700419181678966\n",
      "Comienzo cálculo resolución=12, ventana=3 en la posicion[11][2]\n",
      "Entropia primera columna: 0.41561324247269216\n",
      "Entropia segunda columna: 0.3067922281459727\n",
      "Entropia conjunta: 0.7199597627741822\n",
      "Calculado: resolución=12, ventana=3 en la posicion[11][2], valor=0.002445707844482725\n",
      "Comienzo cálculo resolución=12, ventana=4 en la posicion[11][3]\n",
      "Entropia primera columna: 0.5534661573813466\n",
      "Entropia segunda columna: 0.4085707645780474\n",
      "Entropia conjunta: 0.9576034943895084\n",
      "Calculado: resolución=12, ventana=4 en la posicion[11][3], valor=0.0044334275698856285\n",
      "Comienzo cálculo resolución=12, ventana=5 en la posicion[11][4]\n",
      "Entropia primera columna: 0.6909910430733357\n",
      "Entropia segunda columna: 0.5100949608983436\n",
      "Entropia conjunta: 1.194032718158217\n",
      "Calculado: resolución=12, ventana=5 en la posicion[11][4], valor=0.007053285813462207\n",
      "Comienzo cálculo resolución=12, ventana=6 en la posicion[11][5]\n",
      "Entropia primera columna: 0.8280113449404228\n",
      "Entropia segunda columna: 0.6113764883598791\n",
      "Entropia conjunta: 1.4290043337746745\n",
      "Calculado: resolución=12, ventana=6 en la posicion[11][5], valor=0.01038349952562756\n",
      "Comienzo cálculo resolución=12, ventana=7 en la posicion[11][6]\n",
      "Entropia primera columna: 0.9645347566916167\n",
      "Entropia segunda columna: 0.7126472598634213\n",
      "Entropia conjunta: 1.6627335732195647\n",
      "Calculado: resolución=12, ventana=7 en la posicion[11][6], valor=0.014448443335473238\n",
      "Comienzo cálculo resolución=12, ventana=8 en la posicion[11][7]\n",
      "Entropia primera columna: 1.1006343946288986\n",
      "Entropia segunda columna: 0.8136008408947515\n",
      "Entropia conjunta: 1.8950599244751405\n",
      "Calculado: resolución=12, ventana=8 en la posicion[11][7], valor=0.019175311048509558\n",
      "Comienzo cálculo resolución=13, ventana=1 en la posicion[12][0]\n",
      "Entropia primera columna: 0.1480753720296444\n",
      "Entropia segunda columna: 0.10937036091946187\n",
      "Entropia conjunta: 0.25712868697579944\n",
      "Calculado: resolución=13, ventana=1 en la posicion[12][0], valor=0.0003170459733068398\n",
      "Comienzo cálculo resolución=13, ventana=2 en la posicion[12][1]\n",
      "Entropia primera columna: 0.29557207781847306\n",
      "Entropia segunda columna: 0.2184532202638585\n",
      "Entropia conjunta: 0.5127636953451755\n",
      "Calculado: resolución=13, ventana=2 en la posicion[12][1], valor=0.0012616027371560312\n",
      "Comienzo cálculo resolución=13, ventana=3 en la posicion[12][2]\n",
      "Entropia primera columna: 0.44277190967370483\n",
      "Entropia segunda columna: 0.3272558329501519\n",
      "Entropia conjunta: 0.7671360257836103\n",
      "Calculado: resolución=13, ventana=3 en la posicion[12][2], valor=0.002891716840246472\n",
      "Comienzo cálculo resolución=13, ventana=4 en la posicion[12][3]\n",
      "Entropia primera columna: 0.5895911216432631\n",
      "Entropia segunda columna: 0.435766113017391\n",
      "Entropia conjunta: 1.020135365890928\n",
      "Calculado: resolución=13, ventana=4 en la posicion[12][3], valor=0.005221868769726079\n",
      "Comienzo cálculo resolución=13, ventana=5 en la posicion[12][4]\n",
      "Entropia primera columna: 0.7359398901900209\n",
      "Entropia segunda columna: 0.5439600636769839\n",
      "Entropia conjunta: 1.2715339445852165\n",
      "Calculado: resolución=13, ventana=5 en la posicion[12][4], valor=0.008366009281788322\n",
      "Comienzo cálculo resolución=13, ventana=6 en la posicion[12][5]\n"
     ]
    },
    {
     "name": "stdout",
     "output_type": "stream",
     "text": [
      "Entropia primera columna: 0.8816903617454656\n",
      "Entropia segunda columna: 0.6520189389238117\n",
      "Entropia conjunta: 1.5213662242936805\n",
      "Calculado: resolución=13, ventana=6 en la posicion[12][5], valor=0.012343076375596729\n",
      "Comienzo cálculo resolución=13, ventana=7 en la posicion[12][6]\n",
      "Entropia primera columna: 1.0268690097072544\n",
      "Entropia segunda columna: 0.7599149071177502\n",
      "Entropia conjunta: 1.7696563721412826\n",
      "Calculado: resolución=13, ventana=7 en la posicion[12][6], valor=0.017127544683722018\n",
      "Comienzo cálculo resolución=13, ventana=8 en la posicion[12][7]\n",
      "Entropia primera columna: 1.1719491579113732\n",
      "Entropia segunda columna: 0.8673115563869037\n",
      "Entropia conjunta: 2.0165881729884094\n",
      "Calculado: resolución=13, ventana=8 en la posicion[12][7], valor=0.022672541309867622\n",
      "Comienzo cálculo resolución=14, ventana=1 en la posicion[13][0]\n",
      "Entropia primera columna: 0.15699870955783224\n",
      "Entropia segunda columna: 0.11610051595431858\n",
      "Entropia conjunta: 0.2727379839815017\n",
      "Calculado: resolución=14, ventana=1 en la posicion[13][0], valor=0.0003612415306491479\n",
      "Comienzo cálculo resolución=14, ventana=2 en la posicion[13][1]\n",
      "Entropia primera columna: 0.3133868393217667\n",
      "Entropia segunda columna: 0.23185603738726454\n",
      "Entropia conjunta: 0.5437711345016547\n",
      "Calculado: resolución=14, ventana=2 en la posicion[13][1], valor=0.0014717422073765585\n",
      "Comienzo cálculo resolución=14, ventana=3 en la posicion[13][2]\n",
      "Entropia primera columna: 0.46941340959525224\n",
      "Entropia segunda columna: 0.34729859851004263\n",
      "Entropia conjunta: 0.8133373797214816\n",
      "Calculado: resolución=14, ventana=3 en la posicion[13][2], valor=0.003374628383813305\n",
      "Comienzo cálculo resolución=14, ventana=4 en la posicion[13][3]\n",
      "Entropia primera columna: 0.6250006880147172\n",
      "Entropia segunda columna: 0.4623883870549518\n",
      "Entropia conjunta: 1.081265967940929\n",
      "Calculado: resolución=14, ventana=4 en la posicion[13][3], valor=0.00612310712873998\n",
      "Comienzo cálculo resolución=14, ventana=5 en la posicion[13][4]\n",
      "Entropia primera columna: 0.7799611284349687\n",
      "Entropia segunda columna: 0.5771397446277697\n",
      "Entropia conjunta: 1.3473023954330323\n",
      "Calculado: resolución=14, ventana=5 en la posicion[13][4], valor=0.009798477629706204\n",
      "Comienzo cálculo resolución=14, ventana=6 en la posicion[13][5]\n",
      "Entropia primera columna: 0.9342405706794543\n",
      "Entropia segunda columna: 0.6918587159372481\n",
      "Entropia conjunta: 1.611646384836721\n",
      "Calculado: resolución=14, ventana=6 en la posicion[13][5], valor=0.014452901779981264\n",
      "Comienzo cálculo resolución=14, ventana=7 en la posicion[13][6]\n",
      "Entropia primera columna: 1.0880121948419994\n",
      "Entropia segunda columna: 0.8061933578978464\n",
      "Entropia conjunta: 1.8741838024156705\n",
      "Calculado: resolución=14, ventana=7 en la posicion[13][6], valor=0.020021750324175303\n",
      "Comienzo cálculo resolución=14, ventana=8 en la posicion[13][7]\n",
      "Entropia primera columna: 1.2416737152945694\n",
      "Entropia segunda columna: 0.9198680115094712\n",
      "Entropia conjunta: 2.1351405745328256\n",
      "Calculado: resolución=14, ventana=8 en la posicion[13][7], valor=0.02640115227121509\n"
     ]
    }
   ],
   "source": [
    "for i in range(14):\n",
    "    for j in range(8):\n",
    "        if data[i][j] != 0:\n",
    "            print(f\"Previamente calculado: resolución={i+1}, ventana={j+1} en la posicion[{i}][{j}], valor={data[i][j]}\")\n",
    "            continue\n",
    "        print(f\"Comienzo cálculo resolución={i+1}, ventana={j+1} en la posicion[{i}][{j}]\")\n",
    "        data[i][j] = mutual_info_optimized(resolution(df, i+1), ['LP_bin', 'VD_bin'], j+1)\n",
    "        print(f\"Calculado: resolución={i+1}, ventana={j+1} en la posicion[{i}][{j}], valor={data[i][j]}\")\n",
    "        with open(data_file, \"wb\") as f:\n",
    "            pickle.dump(data, f)"
   ]
  },
  {
   "cell_type": "code",
   "execution_count": 63,
   "metadata": {},
   "outputs": [
    {
     "data": {
      "image/png": "[encoded data removed]",
      "text/plain": [
       "<Figure size 432x288 with 1 Axes>"
      ]
     },
     "metadata": {
      "needs_background": "light"
     },
     "output_type": "display_data"
    }
   ],
   "source": [
    "for i in range(14):\n",
    "    plt.plot(data[i], label=f\"palabra: {i+1}\")\n",
    "    plt.legend()"
   ]
  },
  {
   "cell_type": "code",
   "execution_count": 6,
   "metadata": {},
   "outputs": [],
   "source": [
    "df = pd.DataFrame(columns=['LP_bin', 'VD_bin'])"
   ]
  },
  {
   "cell_type": "code",
   "execution_count": 9,
   "metadata": {},
   "outputs": [],
   "source": [
    "df.LP_bin = [0,0,0,0,0,1,0,0,0,1]\n",
    "df.VD_bin = [1,0,0,0,1,0,1,0,0,0]"
   ]
  },
  {
   "cell_type": "code",
   "execution_count": 10,
   "metadata": {},
   "outputs": [
    {
     "data": {
      "text/html": [
       "<div>\n",
       "<style scoped>\n",
       "    .dataframe tbody tr th:only-of-type {\n",
       "        vertical-align: middle;\n",
       "    }\n",
       "\n",
       "    .dataframe tbody tr th {\n",
       "        vertical-align: top;\n",
       "    }\n",
       "\n",
       "    .dataframe thead th {\n",
       "        text-align: right;\n",
       "    }\n",
       "</style>\n",
       "<table border=\"1\" class=\"dataframe\">\n",
       "  <thead>\n",
       "    <tr style=\"text-align: right;\">\n",
       "      <th></th>\n",
       "      <th>LP_bin</th>\n",
       "      <th>VD_bin</th>\n",
       "    </tr>\n",
       "  </thead>\n",
       "  <tbody>\n",
       "    <tr>\n",
       "      <th>0</th>\n",
       "      <td>0</td>\n",
       "      <td>1</td>\n",
       "    </tr>\n",
       "    <tr>\n",
       "      <th>1</th>\n",
       "      <td>0</td>\n",
       "      <td>0</td>\n",
       "    </tr>\n",
       "    <tr>\n",
       "      <th>2</th>\n",
       "      <td>0</td>\n",
       "      <td>0</td>\n",
       "    </tr>\n",
       "    <tr>\n",
       "      <th>3</th>\n",
       "      <td>0</td>\n",
       "      <td>0</td>\n",
       "    </tr>\n",
       "    <tr>\n",
       "      <th>4</th>\n",
       "      <td>0</td>\n",
       "      <td>1</td>\n",
       "    </tr>\n",
       "    <tr>\n",
       "      <th>5</th>\n",
       "      <td>1</td>\n",
       "      <td>0</td>\n",
       "    </tr>\n",
       "    <tr>\n",
       "      <th>6</th>\n",
       "      <td>0</td>\n",
       "      <td>1</td>\n",
       "    </tr>\n",
       "    <tr>\n",
       "      <th>7</th>\n",
       "      <td>0</td>\n",
       "      <td>0</td>\n",
       "    </tr>\n",
       "    <tr>\n",
       "      <th>8</th>\n",
       "      <td>0</td>\n",
       "      <td>0</td>\n",
       "    </tr>\n",
       "    <tr>\n",
       "      <th>9</th>\n",
       "      <td>1</td>\n",
       "      <td>0</td>\n",
       "    </tr>\n",
       "  </tbody>\n",
       "</table>\n",
       "</div>"
      ],
      "text/plain": [
       "   LP_bin  VD_bin\n",
       "0       0       1\n",
       "1       0       0\n",
       "2       0       0\n",
       "3       0       0\n",
       "4       0       1\n",
       "5       1       0\n",
       "6       0       1\n",
       "7       0       0\n",
       "8       0       0\n",
       "9       1       0"
      ]
     },
     "execution_count": 10,
     "metadata": {},
     "output_type": "execute_result"
    }
   ],
   "source": [
    "df"
   ]
  },
  {
   "cell_type": "code",
   "execution_count": 43,
   "metadata": {},
   "outputs": [],
   "source": [
    "a = df.index[df.VD_bin > 0]"
   ]
  },
  {
   "cell_type": "code",
   "execution_count": 44,
   "metadata": {},
   "outputs": [
    {
     "data": {
      "text/plain": [
       "22148"
      ]
     },
     "execution_count": 44,
     "metadata": {},
     "output_type": "execute_result"
    }
   ],
   "source": [
    "len(a)"
   ]
  },
  {
   "cell_type": "code",
   "execution_count": 26,
   "metadata": {},
   "outputs": [
    {
     "data": {
      "text/plain": [
       "895.8794419108683"
      ]
     },
     "execution_count": 26,
     "metadata": {},
     "output_type": "execute_result"
    }
   ],
   "source": [
    "np.mean(a[1:] - a[:-1])"
   ]
  },
  {
   "cell_type": "code",
   "execution_count": 18,
   "metadata": {},
   "outputs": [],
   "source": [
    "def get_max_window(X, cols):\n",
    "    windows = []\n",
    "    for c in cols:\n",
    "        w = X.index[X[c] > 0]\n",
    "        windows.append(min(w[1:] - w[:-1]))\n",
    "    return min(windows)"
   ]
  },
  {
   "cell_type": "code",
   "execution_count": 21,
   "metadata": {},
   "outputs": [
    {
     "data": {
      "text/plain": [
       "14"
      ]
     },
     "execution_count": 21,
     "metadata": {},
     "output_type": "execute_result"
    }
   ],
   "source": [
    "get_max_window(df, ['LP_bin', 'VD_bin'])"
   ]
  },
  {
   "cell_type": "code",
   "execution_count": 27,
   "metadata": {},
   "outputs": [
    {
     "data": {
      "text/plain": [
       "[<matplotlib.lines.Line2D at 0x7f5699156d30>]"
      ]
     },
     "execution_count": 27,
     "metadata": {},
     "output_type": "execute_result"
    },
    {
     "data": {
      "image/png": "[encoded data removed]",
      "text/plain": [
       "<Figure size 432x288 with 1 Axes>"
      ]
     },
     "metadata": {
      "needs_background": "light"
     },
     "output_type": "display_data"
    }
   ],
   "source": [
    "plt.plot(df.VD_bin)"
   ]
  },
  {
   "cell_type": "code",
   "execution_count": 38,
   "metadata": {},
   "outputs": [],
   "source": [
    "df.head(10000).to_csv(\"prueba.csv\", header=None, index=None, sep=' ')"
   ]
  },
  {
   "cell_type": "code",
   "execution_count": null,
   "metadata": {},
   "outputs": [],
   "source": []
  }
 ],
 "metadata": {
  "kernelspec": {
   "display_name": "Python 3",
   "language": "python",
   "name": "python3"
  },
  "language_info": {
   "codemirror_mode": {
    "name": "ipython",
    "version": 3
   },
   "file_extension": ".py",
   "mimetype": "text/x-python",
   "name": "python",
   "nbconvert_exporter": "python",
   "pygments_lexer": "ipython3",
   "version": "3.8.5"
  }
 },
 "nbformat": 4,
 "nbformat_minor": 4
}
