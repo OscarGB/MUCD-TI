{
 "cells": [
  {
   "cell_type": "code",
   "execution_count": 1,
   "metadata": {},
   "outputs": [],
   "source": [
    "import matplotlib.pyplot as plt\n",
    "import pandas as pd\n",
    "import numpy as np\n",
    "from utils import get_spikes"
   ]
  },
  {
   "cell_type": "raw",
   "metadata": {},
   "source": [
    "from_files = [\"./DatosSinapsisArtificial/TrozoC.txt\",\n",
    "              \"./DatosSinapsisArtificial/TrozoR.txt\",\n",
    "              \"./DatosSinapsisArtificial/TrozoG.txt\"]\n",
    "cols = [[\"LP\", \"VD\"],\n",
    "        [\"LP\", \"VD\"],\n",
    "        [\"LP\", \"VD\", \"GABA\"]]\n",
    "thresholds = [{\"LP\": [0.3, 0.1], \"VD\": [0.25, 0.1]},\n",
    "              {\"LP\": [0.3, 0.1], \"VD\": [0.25, 0.1]},\n",
    "              {\"LP\": [0.3, 0.1], \"VD\": [0.25, 0.1]}]\n",
    "to_files = [\"./DatosSinapsisArtificial/TrozoC_bin.csv\",\n",
    "            \"./DatosSinapsisArtificial/TrozoR_bin.csv\",\n",
    "            \"./DatosSinapsisArtificial/TrozoG_bin.csv\"]\n",
    "\n",
    "for i in range(len(from_files)):\n",
    "    df = pd.read_csv(from_files[i], skiprows=3, \n",
    "                     header=None, names=cols[i], dtype=np.float, sep='\\s+', decimal=',', index_col=False)\n",
    "    for col in thresholds[i].keys():\n",
    "        get_spikes(df, col, t_ini=thresholds[i][col][0], t_fin=thresholds[i][col][0])\n",
    "    df.to_csv(to_files[i])"
   ]
  },
  {
   "cell_type": "code",
   "execution_count": 2,
   "metadata": {},
   "outputs": [],
   "source": [
    "def shanon_entropy(X, wlen):\n",
    "    p = X.rolling(wlen).apply(lambda x: int(''.join(map(lambda x: str(int(x)), x)), 2)).value_counts()\n",
    "    p /= p.sum()\n",
    "    return -np.sum(p*np.log2(p))"
   ]
  },
  {
   "cell_type": "code",
   "execution_count": 13,
   "metadata": {},
   "outputs": [],
   "source": [
    "def shanon_entropy_join(X, wlen):\n",
    "    p = X.rolling(wlen).apply(lambda x: int(''.join(map(lambda x: str(int(x)), x)), 2))\n",
    "    p = p.dropna()\n",
    "    p[\"joined\"] = p.values.tolist()\n",
    "    p = p.joined.value_counts()\n",
    "    p /= p.sum()\n",
    "    return -np.sum(p*np.log2(p))"
   ]
  },
  {
   "cell_type": "code",
   "execution_count": 4,
   "metadata": {},
   "outputs": [],
   "source": [
    "def resolution(X, n):\n",
    "    return X.groupby(X.index // n).max()"
   ]
  },
  {
   "cell_type": "code",
   "execution_count": 11,
   "metadata": {},
   "outputs": [
    {
     "data": {
      "text/html": [
       "<div>\n",
       "<style scoped>\n",
       "    .dataframe tbody tr th:only-of-type {\n",
       "        vertical-align: middle;\n",
       "    }\n",
       "\n",
       "    .dataframe tbody tr th {\n",
       "        vertical-align: top;\n",
       "    }\n",
       "\n",
       "    .dataframe thead th {\n",
       "        text-align: right;\n",
       "    }\n",
       "</style>\n",
       "<table border=\"1\" class=\"dataframe\">\n",
       "  <thead>\n",
       "    <tr style=\"text-align: right;\">\n",
       "      <th></th>\n",
       "      <th>x</th>\n",
       "      <th>y</th>\n",
       "    </tr>\n",
       "  </thead>\n",
       "  <tbody>\n",
       "    <tr>\n",
       "      <th>0</th>\n",
       "      <td>1</td>\n",
       "      <td>1</td>\n",
       "    </tr>\n",
       "  </tbody>\n",
       "</table>\n",
       "</div>"
      ],
      "text/plain": [
       "   x  y\n",
       "0  1  1"
      ]
     },
     "execution_count": 11,
     "metadata": {},
     "output_type": "execute_result"
    }
   ],
   "source": [
    "df = pd.DataFrame({\"x\":[0,0,1,0,0,0,1,0,1,1,0,0,0],\"y\":[0,0,1,0,0,0,1,0,1,1,0,0,0]})\n",
    "resolution(df,13)"
   ]
  },
  {
   "cell_type": "code",
   "execution_count": 15,
   "metadata": {},
   "outputs": [],
   "source": [
    "def mutual_info(X,cols,wlen):\n",
    "    return shanon_entropy(X[[cols[0]]],wlen) + shanon_entropy(X[[cols[1]]],wlen) - shanon_entropy_join(X[cols],wlen)"
   ]
  },
  {
   "cell_type": "code",
   "execution_count": 40,
   "metadata": {},
   "outputs": [
    {
     "data": {
      "text/plain": [
       "1.7219280948873623"
      ]
     },
     "execution_count": 40,
     "metadata": {},
     "output_type": "execute_result"
    }
   ],
   "source": [
    "mutual_info(df2,['x','y'],3)"
   ]
  },
  {
   "cell_type": "code",
   "execution_count": 38,
   "metadata": {},
   "outputs": [
    {
     "data": {
      "text/html": [
       "<div>\n",
       "<style scoped>\n",
       "    .dataframe tbody tr th:only-of-type {\n",
       "        vertical-align: middle;\n",
       "    }\n",
       "\n",
       "    .dataframe tbody tr th {\n",
       "        vertical-align: top;\n",
       "    }\n",
       "\n",
       "    .dataframe thead th {\n",
       "        text-align: right;\n",
       "    }\n",
       "</style>\n",
       "<table border=\"1\" class=\"dataframe\">\n",
       "  <thead>\n",
       "    <tr style=\"text-align: right;\">\n",
       "      <th></th>\n",
       "      <th>x</th>\n",
       "      <th>y</th>\n",
       "    </tr>\n",
       "  </thead>\n",
       "  <tbody>\n",
       "    <tr>\n",
       "      <th>0</th>\n",
       "      <td>0.0</td>\n",
       "      <td>1.0</td>\n",
       "    </tr>\n",
       "    <tr>\n",
       "      <th>1</th>\n",
       "      <td>0.0</td>\n",
       "      <td>1.0</td>\n",
       "    </tr>\n",
       "    <tr>\n",
       "      <th>2</th>\n",
       "      <td>0.0</td>\n",
       "      <td>1.0</td>\n",
       "    </tr>\n",
       "    <tr>\n",
       "      <th>3</th>\n",
       "      <td>0.0</td>\n",
       "      <td>1.0</td>\n",
       "    </tr>\n",
       "    <tr>\n",
       "      <th>4</th>\n",
       "      <td>0.0</td>\n",
       "      <td>1.0</td>\n",
       "    </tr>\n",
       "    <tr>\n",
       "      <th>5</th>\n",
       "      <td>0.0</td>\n",
       "      <td>1.0</td>\n",
       "    </tr>\n",
       "    <tr>\n",
       "      <th>6</th>\n",
       "      <td>1.0</td>\n",
       "      <td>0.0</td>\n",
       "    </tr>\n",
       "    <tr>\n",
       "      <th>7</th>\n",
       "      <td>1.0</td>\n",
       "      <td>0.0</td>\n",
       "    </tr>\n",
       "    <tr>\n",
       "      <th>8</th>\n",
       "      <td>1.0</td>\n",
       "      <td>0.0</td>\n",
       "    </tr>\n",
       "    <tr>\n",
       "      <th>9</th>\n",
       "      <td>1.0</td>\n",
       "      <td>0.0</td>\n",
       "    </tr>\n",
       "    <tr>\n",
       "      <th>10</th>\n",
       "      <td>1.0</td>\n",
       "      <td>0.0</td>\n",
       "    </tr>\n",
       "    <tr>\n",
       "      <th>11</th>\n",
       "      <td>1.0</td>\n",
       "      <td>0.0</td>\n",
       "    </tr>\n",
       "  </tbody>\n",
       "</table>\n",
       "</div>"
      ],
      "text/plain": [
       "      x    y\n",
       "0   0.0  1.0\n",
       "1   0.0  1.0\n",
       "2   0.0  1.0\n",
       "3   0.0  1.0\n",
       "4   0.0  1.0\n",
       "5   0.0  1.0\n",
       "6   1.0  0.0\n",
       "7   1.0  0.0\n",
       "8   1.0  0.0\n",
       "9   1.0  0.0\n",
       "10  1.0  0.0\n",
       "11  1.0  0.0"
      ]
     },
     "execution_count": 38,
     "metadata": {},
     "output_type": "execute_result"
    }
   ],
   "source": [
    "df2 = pd.DataFrame(columns=['x','y'])\n",
    "df2['x']=np.zeros(12)\n",
    "df2['y']=np.ones(12)\n",
    "df2.loc[6:,'x'] = 1\n",
    "df2.loc[6:,'y'] = 0\n",
    "df2"
   ]
  },
  {
   "cell_type": "code",
   "execution_count": null,
   "metadata": {},
   "outputs": [],
   "source": [
    "mutual_info(df)"
   ]
  }
 ],
 "metadata": {
  "kernelspec": {
   "display_name": "Python 3",
   "language": "python",
   "name": "python3"
  },
  "language_info": {
   "codemirror_mode": {
    "name": "ipython",
    "version": 3
   },
   "file_extension": ".py",
   "mimetype": "text/x-python",
   "name": "python",
   "nbconvert_exporter": "python",
   "pygments_lexer": "ipython3",
   "version": "3.8.5"
  }
 },
 "nbformat": 4,
 "nbformat_minor": 4
}
