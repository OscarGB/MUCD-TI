{
 "cells": [
  {
   "cell_type": "code",
   "execution_count": 1,
   "metadata": {},
   "outputs": [],
   "source": [
    "import matplotlib.pyplot as plt\n",
    "import pandas as pd\n",
    "import numpy as np"
   ]
  },
  {
   "cell_type": "code",
   "execution_count": 2,
   "metadata": {},
   "outputs": [],
   "source": [
    "file = \"./DatosSinapsisArtificial/TrozoC.txt\"\n",
    "cols = [\"LP\", \"VD\"]\n",
    "thresholds = [0.3, 0.25]"
   ]
  },
  {
   "cell_type": "code",
   "execution_count": 3,
   "metadata": {},
   "outputs": [],
   "source": [
    "df = pd.read_csv(file, skiprows=3, \n",
    "                 header=None, names=cols, dtype=np.float, sep='\\s+', decimal=',', index_col=False)"
   ]
  },
  {
   "cell_type": "code",
   "execution_count": 4,
   "metadata": {},
   "outputs": [],
   "source": [
    "def get_spikes(df, col_name, t_ini=0.3, t_fin=0.1):\n",
    "    print(len(df))\n",
    "    col = df[col_name]\n",
    "    to_col = col_name + \"_bin\"\n",
    "    df[to_col] = 0\n",
    "    i_pico = -1\n",
    "    for i in range(len(col)):\n",
    "        if i%100000 == 0:\n",
    "            print(i)\n",
    "        if i_pico < 0:\n",
    "            if col[i] >= t_ini:\n",
    "                i_pico = i\n",
    "        else:\n",
    "            if col[i] <= t_fin:\n",
    "                imax = col[i_pico:i].idxmax()\n",
    "                df.loc[imax, to_col] = 1\n",
    "                i_pico =-1"
   ]
  },
  {
   "cell_type": "code",
   "execution_count": null,
   "metadata": {},
   "outputs": [
    {
     "name": "stdout",
     "output_type": "stream",
     "text": [
      "19847700\n",
      "0\n",
      "100000\n",
      "200000\n",
      "300000\n",
      "400000\n",
      "500000\n",
      "600000\n",
      "700000\n",
      "800000\n",
      "900000\n",
      "1000000\n",
      "1100000\n",
      "1200000\n",
      "1300000\n",
      "1400000\n",
      "1500000\n",
      "1600000\n",
      "1700000\n",
      "1800000\n",
      "1900000\n",
      "2000000\n",
      "2100000\n",
      "2200000\n",
      "2300000\n",
      "2400000\n",
      "2500000\n",
      "2600000\n",
      "2700000\n",
      "2800000\n",
      "2900000\n",
      "3000000\n",
      "3100000\n",
      "3200000\n",
      "3300000\n",
      "3400000\n",
      "3500000\n",
      "3600000\n",
      "3700000\n",
      "3800000\n",
      "3900000\n",
      "4000000\n",
      "4100000\n",
      "4200000\n",
      "4300000\n",
      "4400000\n",
      "4500000\n",
      "4600000\n",
      "4700000\n",
      "4800000\n",
      "4900000\n",
      "5000000\n",
      "5100000\n",
      "5200000\n"
     ]
    }
   ],
   "source": [
    "get_spikes(df, \"LP\", t_ini=0.3, t_fin=0.1)"
   ]
  },
  {
   "cell_type": "code",
   "execution_count": null,
   "metadata": {},
   "outputs": [],
   "source": [
    "get_spikes(df, \"VD\", t_ini=0.25, t_fin=0.1)"
   ]
  },
  {
   "cell_type": "code",
   "execution_count": null,
   "metadata": {},
   "outputs": [],
   "source": [
    "df.head(20000)[['LP', 'LP_bin']].plot(figsize=(100,100))\n",
    "plt.hlines(0.30, xmin=0, xmax=10000)\n",
    "plt.hlines(0.31, xmin=0, xmax=10000)"
   ]
  },
  {
   "cell_type": "code",
   "execution_count": null,
   "metadata": {},
   "outputs": [],
   "source": []
  }
 ],
 "metadata": {
  "kernelspec": {
   "display_name": "Python 3",
   "language": "python",
   "name": "python3"
  },
  "language_info": {
   "codemirror_mode": {
    "name": "ipython",
    "version": 3
   },
   "file_extension": ".py",
   "mimetype": "text/x-python",
   "name": "python",
   "nbconvert_exporter": "python",
   "pygments_lexer": "ipython3",
   "version": "3.8.5"
  }
 },
 "nbformat": 4,
 "nbformat_minor": 4
}
