{
 "cells": [
  {
   "cell_type": "code",
   "execution_count": 2,
   "metadata": {},
   "outputs": [
    {
     "ename": "ImportError",
     "evalue": "cannot import name 'from_files' from 'utils' (/home/oscar/Escritorio/MUCD/MUCD-TI/utils.py)",
     "output_type": "error",
     "traceback": [
      "\u001b[0;31m---------------------------------------------------------------------------\u001b[0m",
      "\u001b[0;31mImportError\u001b[0m                               Traceback (most recent call last)",
      "\u001b[0;32m<ipython-input-2-34ded56c18da>\u001b[0m in \u001b[0;36m<module>\u001b[0;34m\u001b[0m\n\u001b[1;32m      2\u001b[0m \u001b[0;32mimport\u001b[0m \u001b[0mpandas\u001b[0m \u001b[0;32mas\u001b[0m \u001b[0mpd\u001b[0m\u001b[0;34m\u001b[0m\u001b[0;34m\u001b[0m\u001b[0m\n\u001b[1;32m      3\u001b[0m \u001b[0;32mimport\u001b[0m \u001b[0mnumpy\u001b[0m \u001b[0;32mas\u001b[0m \u001b[0mnp\u001b[0m\u001b[0;34m\u001b[0m\u001b[0;34m\u001b[0m\u001b[0m\n\u001b[0;32m----> 4\u001b[0;31m \u001b[0;32mfrom\u001b[0m \u001b[0mutils\u001b[0m \u001b[0;32mimport\u001b[0m \u001b[0mfrom_files\u001b[0m\u001b[0;34m,\u001b[0m \u001b[0mcols\u001b[0m\u001b[0;34m,\u001b[0m \u001b[0mthresholds\u001b[0m\u001b[0;34m,\u001b[0m \u001b[0mto_files\u001b[0m\u001b[0;34m\u001b[0m\u001b[0;34m\u001b[0m\u001b[0m\n\u001b[0m\u001b[1;32m      5\u001b[0m \u001b[0;32mfrom\u001b[0m \u001b[0mutils\u001b[0m \u001b[0;32mimport\u001b[0m \u001b[0mget_splikes\u001b[0m\u001b[0;34m\u001b[0m\u001b[0;34m\u001b[0m\u001b[0m\n",
      "\u001b[0;31mImportError\u001b[0m: cannot import name 'from_files' from 'utils' (/home/oscar/Escritorio/MUCD/MUCD-TI/utils.py)"
     ]
    }
   ],
   "source": [
    "import matplotlib.pyplot as plt\n",
    "import pandas as pd\n",
    "import numpy as np\n",
    "from utils import get_spikes"
   ]
  },
  {
   "cell_type": "code",
   "execution_count": 3,
   "metadata": {},
   "outputs": [
    {
     "ename": "NameError",
     "evalue": "name 'from_files' is not defined",
     "output_type": "error",
     "traceback": [
      "\u001b[0;31m---------------------------------------------------------------------------\u001b[0m",
      "\u001b[0;31mNameError\u001b[0m                                 Traceback (most recent call last)",
      "\u001b[0;32m<ipython-input-3-d3fc088cef87>\u001b[0m in \u001b[0;36m<module>\u001b[0;34m\u001b[0m\n\u001b[0;32m----> 1\u001b[0;31m \u001b[0;32mfor\u001b[0m \u001b[0mi\u001b[0m \u001b[0;32min\u001b[0m \u001b[0mrange\u001b[0m\u001b[0;34m(\u001b[0m\u001b[0mlen\u001b[0m\u001b[0;34m(\u001b[0m\u001b[0mfrom_files\u001b[0m\u001b[0;34m)\u001b[0m\u001b[0;34m)\u001b[0m\u001b[0;34m:\u001b[0m\u001b[0;34m\u001b[0m\u001b[0;34m\u001b[0m\u001b[0m\n\u001b[0m\u001b[1;32m      2\u001b[0m     df = pd.read_csv(from_files[i], skiprows=3, \n\u001b[1;32m      3\u001b[0m                      header=None, names=cols[i], dtype=np.float, sep='\\s+', decimal=',', index_col=False).head(10000)\n\u001b[1;32m      4\u001b[0m     \u001b[0;32mfor\u001b[0m \u001b[0mcol\u001b[0m \u001b[0;32min\u001b[0m \u001b[0mcols\u001b[0m\u001b[0;34m[\u001b[0m\u001b[0mi\u001b[0m\u001b[0;34m]\u001b[0m\u001b[0;34m:\u001b[0m\u001b[0;34m\u001b[0m\u001b[0;34m\u001b[0m\u001b[0m\n\u001b[1;32m      5\u001b[0m         \u001b[0mget_spikes\u001b[0m\u001b[0;34m(\u001b[0m\u001b[0mdf\u001b[0m\u001b[0;34m,\u001b[0m \u001b[0mcol\u001b[0m\u001b[0;34m,\u001b[0m \u001b[0mt_ini\u001b[0m\u001b[0;34m=\u001b[0m\u001b[0mthresholds\u001b[0m\u001b[0;34m[\u001b[0m\u001b[0mi\u001b[0m\u001b[0;34m]\u001b[0m\u001b[0;34m[\u001b[0m\u001b[0mcol\u001b[0m\u001b[0;34m]\u001b[0m\u001b[0;34m[\u001b[0m\u001b[0;36m0\u001b[0m\u001b[0;34m]\u001b[0m\u001b[0;34m,\u001b[0m \u001b[0mt_fin\u001b[0m\u001b[0;34m=\u001b[0m\u001b[0mthresholds\u001b[0m\u001b[0;34m[\u001b[0m\u001b[0mi\u001b[0m\u001b[0;34m]\u001b[0m\u001b[0;34m[\u001b[0m\u001b[0mcol\u001b[0m\u001b[0;34m]\u001b[0m\u001b[0;34m[\u001b[0m\u001b[0;36m0\u001b[0m\u001b[0;34m]\u001b[0m\u001b[0;34m)\u001b[0m\u001b[0;34m\u001b[0m\u001b[0;34m\u001b[0m\u001b[0m\n",
      "\u001b[0;31mNameError\u001b[0m: name 'from_files' is not defined"
     ]
    }
   ],
   "source": [
    "from_files = [\"./DatosSinapsisArtificial/TrozoC.txt\",\n",
    "              \"./DatosSinapsisArtificial/TrozoR.txt\",\n",
    "              \"./DatosSinapsisArtificial/TrozoG.txt\"]\n",
    "cols = [[\"LP\", \"VD\"],\n",
    "        [\"LP\", \"VD\"],\n",
    "        [\"LP\", \"VD\", \"GABA\"]]\n",
    "thresholds = [{\"LP\": [0.3, 0.1], \"VD\": [0.25, 0.1]},\n",
    "              {\"LP\": [0.3, 0.1], \"VD\": [0.25, 0.1]},\n",
    "              {\"LP\": [0.3, 0.1], \"VD\": [0.25, 0.1], \"GABA\": [0.3, 0.1]}]\n",
    "to_files = [\"./DatosSinapsisArtificial/TrozoC_bin.txt\",\n",
    "            \"./DatosSinapsisArtificial/TrozoR_bin.txt\",\n",
    "            \"./DatosSinapsisArtificial/TrozoG_bin.txt\"]\n",
    "\n",
    "for i in range(len(from_files)):\n",
    "    df = pd.read_csv(from_files[i], skiprows=3, \n",
    "                     header=None, names=cols[i], dtype=np.float, sep='\\s+', decimal=',', index_col=False).head(10000)\n",
    "    for col in cols[i]:\n",
    "        get_spikes(df, col, t_ini=thresholds[i][col][0], t_fin=thresholds[i][col][0])\n",
    "    df.to_csv(to_files[i])"
   ]
  },
  {
   "cell_type": "code",
   "execution_count": null,
   "metadata": {},
   "outputs": [],
   "source": []
  },
  {
   "cell_type": "code",
   "execution_count": null,
   "metadata": {},
   "outputs": [],
   "source": []
  },
  {
   "cell_type": "code",
   "execution_count": null,
   "metadata": {},
   "outputs": [],
   "source": []
  },
  {
   "cell_type": "code",
   "execution_count": null,
   "metadata": {},
   "outputs": [],
   "source": []
  },
  {
   "cell_type": "raw",
   "metadata": {},
   "source": []
  },
  {
   "cell_type": "raw",
   "metadata": {},
   "source": [
    "file = \"./DatosSinapsisArtificial/TrozoC.txt\"\n",
    "cols = [\"LP\", \"VD\"]"
   ]
  },
  {
   "cell_type": "raw",
   "metadata": {},
   "source": [
    "df = pd.read_csv(file, skiprows=3, \n",
    "                 header=None, names=cols, dtype=np.float, sep='\\s+', decimal=',', index_col=False)"
   ]
  },
  {
   "cell_type": "raw",
   "metadata": {},
   "source": [
    "def get_spikes(df, col_name, t_ini=0.3, t_fin=0.1):\n",
    "    print(len(df))\n",
    "    col = df[col_name]\n",
    "    to_col = col_name + \"_bin\"\n",
    "    df[to_col] = 0\n",
    "    i_pico = -1\n",
    "    for i in range(len(col)):\n",
    "        if i%100000 == 0:\n",
    "            print(i)\n",
    "        if i_pico < 0:\n",
    "            if col[i] >= t_ini:\n",
    "                i_pico = i\n",
    "        else:\n",
    "            if col[i] <= t_fin:\n",
    "                imax = col[i_pico:i].idxmax()\n",
    "                df.loc[imax, to_col] = 1\n",
    "                i_pico =-1"
   ]
  },
  {
   "cell_type": "raw",
   "metadata": {
    "scrolled": true
   },
   "source": [
    "get_spikes(df, \"LP\", t_ini=0.3, t_fin=0.1)"
   ]
  },
  {
   "cell_type": "raw",
   "metadata": {},
   "source": [
    "df.to_csv('./DatosSinapsisArtificial/TrozoC_LP_bin.csv')"
   ]
  },
  {
   "cell_type": "raw",
   "metadata": {},
   "source": [
    "get_spikes(df, \"VD\", t_ini=0.25, t_fin=0.1)"
   ]
  },
  {
   "cell_type": "raw",
   "metadata": {},
   "source": [
    "df.to_csv('./DatosSinapsisArtificial/TrozoC_LP_VD_bin.csv')"
   ]
  },
  {
   "cell_type": "raw",
   "metadata": {},
   "source": [
    "df = pd.read_csv('./DatosSinapsisArtificial/TrozoC_LP_VD_bin.csv')"
   ]
  },
  {
   "cell_type": "raw",
   "metadata": {},
   "source": [
    "file = \"./DatosSinapsisArtificial/TrozoR.txt\"\n",
    "cols = [\"LP\", \"VD\"]"
   ]
  },
  {
   "cell_type": "raw",
   "metadata": {},
   "source": [
    "df = pd.read_csv(file, skiprows=3, \n",
    "                 header=None, names=cols, dtype=np.float, sep='\\s+', decimal=',', index_col=False)"
   ]
  },
  {
   "cell_type": "raw",
   "metadata": {},
   "source": [
    "get_spikes(df, \"LP\", t_ini=0.3, t_fin=0.1)"
   ]
  },
  {
   "cell_type": "raw",
   "metadata": {},
   "source": [
    "df.to_csv('./DatosSinapsisArtificial/TrozoR_LP_bin.csv')"
   ]
  },
  {
   "cell_type": "raw",
   "metadata": {},
   "source": [
    "get_spikes(df, \"VD\", t_ini=0.25, t_fin=0.1)"
   ]
  },
  {
   "cell_type": "raw",
   "metadata": {},
   "source": [
    "df.to_csv('./DatosSinapsisArtificial/TrozoR_LP_VD_bin.csv')"
   ]
  },
  {
   "cell_type": "raw",
   "metadata": {},
   "source": []
  },
  {
   "cell_type": "raw",
   "metadata": {},
   "source": []
  },
  {
   "cell_type": "raw",
   "metadata": {},
   "source": [
    "df.head(20000)[['LP', 'LP_bin']].plot(figsize=(100,100))\n",
    "plt.hlines(0.3, xmin=0, xmax=20000)\n",
    "plt.hlines(0.1, xmin=0, xmax=20000)"
   ]
  }
 ],
 "metadata": {
  "kernelspec": {
   "display_name": "Python 3",
   "language": "python",
   "name": "python3"
  }
 },
 "nbformat": 4,
 "nbformat_minor": 4
}
