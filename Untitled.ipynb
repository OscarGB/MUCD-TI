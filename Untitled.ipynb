{
 "cells": [
  {
   "cell_type": "code",
   "execution_count": 3,
   "metadata": {},
   "outputs": [],
   "source": [
    "import matplotlib.pyplot as plt\n",
    "import pandas as pd\n",
    "import numpy as np\n",
    "from utils import get_spikes"
   ]
  },
  {
   "cell_type": "code",
   "execution_count": 4,
   "metadata": {},
   "outputs": [],
   "source": [
    "from_files = [\"./DatosSinapsisArtificial/TrozoC.txt\",\n",
    "              \"./DatosSinapsisArtificial/TrozoR.txt\",\n",
    "              \"./DatosSinapsisArtificial/TrozoG.txt\"]\n",
    "cols = [[\"LP\", \"VD\"],\n",
    "        [\"LP\", \"VD\"],\n",
    "        [\"LP\", \"VD\", \"GABA\"]]\n",
    "thresholds = [{\"LP\": [0.3, 0.1], \"VD\": [0.25, 0.1]},\n",
    "              {\"LP\": [0.3, 0.1], \"VD\": [0.25, 0.1]},\n",
    "              {\"LP\": [0.3, 0.1], \"VD\": [0.25, 0.1], \"GABA\": [0.3, 0.1]}]\n",
    "to_files = [\"./DatosSinapsisArtificial/TrozoC_bin.txt\",\n",
    "            \"./DatosSinapsisArtificial/TrozoR_bin.txt\",\n",
    "            \"./DatosSinapsisArtificial/TrozoG_bin.txt\"]\n",
    "\n",
    "for i in range(len(from_files)):\n",
    "    df = pd.read_csv(from_files[i], skiprows=3, \n",
    "                     header=None, names=cols[i], dtype=np.float, sep='\\s+', decimal=',', index_col=False)\n",
    "    for col in cols[i]:\n",
    "        get_spikes(df, col, t_ini=thresholds[i][col][0], t_fin=thresholds[i][col][0])\n",
    "    df.to_csv(to_files[i])"
   ]
  },
  {
   "cell_type": "code",
   "execution_count": null,
   "metadata": {},
   "outputs": [],
   "source": []
  },
  {
   "cell_type": "code",
   "execution_count": null,
   "metadata": {},
   "outputs": [],
   "source": []
  },
  {
   "cell_type": "code",
   "execution_count": null,
   "metadata": {},
   "outputs": [],
   "source": []
  },
  {
   "cell_type": "code",
   "execution_count": null,
   "metadata": {},
   "outputs": [],
   "source": []
  },
  {
   "cell_type": "raw",
   "metadata": {},
   "source": []
  },
  {
   "cell_type": "raw",
   "metadata": {},
   "source": [
    "file = \"./DatosSinapsisArtificial/TrozoC.txt\"\n",
    "cols = [\"LP\", \"VD\"]"
   ]
  },
  {
   "cell_type": "raw",
   "metadata": {},
   "source": [
    "df = pd.read_csv(file, skiprows=3, \n",
    "                 header=None, names=cols, dtype=np.float, sep='\\s+', decimal=',', index_col=False)"
   ]
  },
  {
   "cell_type": "raw",
   "metadata": {},
   "source": [
    "def get_spikes(df, col_name, t_ini=0.3, t_fin=0.1):\n",
    "    print(len(df))\n",
    "    col = df[col_name]\n",
    "    to_col = col_name + \"_bin\"\n",
    "    df[to_col] = 0\n",
    "    i_pico = -1\n",
    "    for i in range(len(col)):\n",
    "        if i%100000 == 0:\n",
    "            print(i)\n",
    "        if i_pico < 0:\n",
    "            if col[i] >= t_ini:\n",
    "                i_pico = i\n",
    "        else:\n",
    "            if col[i] <= t_fin:\n",
    "                imax = col[i_pico:i].idxmax()\n",
    "                df.loc[imax, to_col] = 1\n",
    "                i_pico =-1"
   ]
  },
  {
   "cell_type": "raw",
   "metadata": {
    "scrolled": true
   },
   "source": [
    "get_spikes(df, \"LP\", t_ini=0.3, t_fin=0.1)"
   ]
  },
  {
   "cell_type": "raw",
   "metadata": {},
   "source": [
    "df.to_csv('./DatosSinapsisArtificial/TrozoC_LP_bin.csv')"
   ]
  },
  {
   "cell_type": "raw",
   "metadata": {},
   "source": [
    "get_spikes(df, \"VD\", t_ini=0.25, t_fin=0.1)"
   ]
  },
  {
   "cell_type": "raw",
   "metadata": {},
   "source": [
    "df.to_csv('./DatosSinapsisArtificial/TrozoC_LP_VD_bin.csv')"
   ]
  },
  {
   "cell_type": "raw",
   "metadata": {},
   "source": [
    "df = pd.read_csv('./DatosSinapsisArtificial/TrozoC_LP_VD_bin.csv')"
   ]
  },
  {
   "cell_type": "raw",
   "metadata": {},
   "source": [
    "file = \"./DatosSinapsisArtificial/TrozoR.txt\"\n",
    "cols = [\"LP\", \"VD\"]"
   ]
  },
  {
   "cell_type": "raw",
   "metadata": {},
   "source": [
    "df = pd.read_csv(file, skiprows=3, \n",
    "                 header=None, names=cols, dtype=np.float, sep='\\s+', decimal=',', index_col=False)"
   ]
  },
  {
   "cell_type": "raw",
   "metadata": {},
   "source": [
    "get_spikes(df, \"LP\", t_ini=0.3, t_fin=0.1)"
   ]
  },
  {
   "cell_type": "raw",
   "metadata": {},
   "source": [
    "df.to_csv('./DatosSinapsisArtificial/TrozoR_LP_bin.csv')"
   ]
  },
  {
   "cell_type": "raw",
   "metadata": {},
   "source": [
    "get_spikes(df, \"VD\", t_ini=0.25, t_fin=0.1)"
   ]
  },
  {
   "cell_type": "raw",
   "metadata": {},
   "source": [
    "df.to_csv('./DatosSinapsisArtificial/TrozoR_LP_VD_bin.csv')"
   ]
  },
  {
   "cell_type": "raw",
   "metadata": {},
   "source": []
  },
  {
   "cell_type": "raw",
   "metadata": {},
   "source": []
  },
  {
   "cell_type": "raw",
   "metadata": {},
   "source": [
    "df.head(20000)[['LP', 'LP_bin']].plot(figsize=(100,100))\n",
    "plt.hlines(0.3, xmin=0, xmax=20000)\n",
    "plt.hlines(0.1, xmin=0, xmax=20000)"
   ]
  }
 ],
 "metadata": {
  "kernelspec": {
   "display_name": "Python 3",
   "language": "python",
   "name": "python3"
  },
  "language_info": {
   "codemirror_mode": {
    "name": "ipython",
    "version": 3
   },
   "file_extension": ".py",
   "mimetype": "text/x-python",
   "name": "python",
   "nbconvert_exporter": "python",
   "pygments_lexer": "ipython3",
   "version": "3.8.5"
  }
 },
 "nbformat": 4,
 "nbformat_minor": 4
}
