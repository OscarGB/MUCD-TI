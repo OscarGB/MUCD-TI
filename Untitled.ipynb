{
 "cells": [
  {
   "cell_type": "code",
   "execution_count": 3,
   "metadata": {},
   "outputs": [],
   "source": [
    "import matplotlib.pyplot as plt\n",
    "import pandas as pd\n",
    "import numpy as np\n",
    "from utils import get_spikes"
   ]
  },
  {
   "cell_type": "code",
   "execution_count": null,
   "metadata": {},
   "outputs": [],
   "source": [
    "from_files = [\"./DatosSinapsisArtificial/TrozoC.txt\",\n",
    "              \"./DatosSinapsisArtificial/TrozoR.txt\",\n",
    "              \"./DatosSinapsisArtificial/TrozoG.txt\"]\n",
    "cols = [[\"LP\", \"VD\"],\n",
    "        [\"LP\", \"VD\"],\n",
    "        [\"LP\", \"VD\", \"GABA\"]]\n",
    "thresholds = [{\"LP\": [0.3, 0.1], \"VD\": [0.25, 0.1]},\n",
    "              {\"LP\": [0.3, 0.1], \"VD\": [0.25, 0.1]},\n",
    "              {\"LP\": [0.3, 0.1], \"VD\": [0.25, 0.1]}]\n",
    "to_files = [\"./DatosSinapsisArtificial/TrozoC_bin.csv\",\n",
    "            \"./DatosSinapsisArtificial/TrozoR_bin.csv\",\n",
    "            \"./DatosSinapsisArtificial/TrozoG_bin.csv\"]\n",
    "\n",
    "for i in range(len(from_files)):\n",
    "    df = pd.read_csv(from_files[i], skiprows=3, \n",
    "                     header=None, names=cols[i], dtype=np.float, sep='\\s+', decimal=',', index_col=False)\n",
    "    for col in thresholds[i].keys():\n",
    "        get_spikes(df, col, t_ini=thresholds[i][col][0], t_fin=thresholds[i][col][0])\n",
    "    df.to_csv(to_files[i])"
   ]
  }
 ],
 "metadata": {
  "kernelspec": {
   "display_name": "Python 3",
   "language": "python",
   "name": "python3"
  },
  "language_info": {
   "codemirror_mode": {
    "name": "ipython",
    "version": 3
   },
   "file_extension": ".py",
   "mimetype": "text/x-python",
   "name": "python",
   "nbconvert_exporter": "python",
   "pygments_lexer": "ipython3",
   "version": "3.8.5"
  }
 },
 "nbformat": 4,
 "nbformat_minor": 4
}
