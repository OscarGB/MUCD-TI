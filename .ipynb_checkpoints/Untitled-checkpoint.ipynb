{
 "cells": [
  {
   "cell_type": "code",
   "execution_count": 1,
   "metadata": {},
   "outputs": [],
   "source": [
    "import matplotlib.pyplot as plt\n",
    "import pandas as pd\n",
    "import numpy as np"
   ]
  },
  {
   "cell_type": "code",
   "execution_count": 10,
   "metadata": {},
   "outputs": [],
   "source": [
    "file = \"./DatosSinapsisArtificial/TrozoC.txt\"\n",
    "cols = [\"LP\", \"VD\"]\n",
    "thresholds = [0.3, 0.25]"
   ]
  },
  {
   "cell_type": "code",
   "execution_count": 11,
   "metadata": {},
   "outputs": [],
   "source": [
    "df = pd.read_csv(file, skiprows=3, \n",
    "                 header=None, names=cols, dtype=np.float, sep='\\s+', decimal=',', index_col=False)"
   ]
  },
  {
   "cell_type": "code",
   "execution_count": 12,
   "metadata": {},
   "outputs": [],
   "source": [
    "for a,t in zip(cols,thresholds):\n",
    "    df[a+'_bin'] = 0\n",
    "    df.loc[df[a] > t, a+'_bin'] = 1"
   ]
  },
  {
   "cell_type": "code",
   "execution_count": 5,
   "metadata": {},
   "outputs": [],
   "source": [
    "#df = load_dataset(\"./DatosSinapsisArtificial/TrozoC.txt\", [\"LP\", \"VD\"], 0.25)"
   ]
  },
  {
   "cell_type": "code",
   "execution_count": 6,
   "metadata": {},
   "outputs": [
    {
     "data": {
      "text/html": [
       "<div>\n",
       "<style scoped>\n",
       "    .dataframe tbody tr th:only-of-type {\n",
       "        vertical-align: middle;\n",
       "    }\n",
       "\n",
       "    .dataframe tbody tr th {\n",
       "        vertical-align: top;\n",
       "    }\n",
       "\n",
       "    .dataframe thead th {\n",
       "        text-align: right;\n",
       "    }\n",
       "</style>\n",
       "<table border=\"1\" class=\"dataframe\">\n",
       "  <thead>\n",
       "    <tr style=\"text-align: right;\">\n",
       "      <th></th>\n",
       "      <th>LP</th>\n",
       "      <th>VD</th>\n",
       "      <th>LP_bin</th>\n",
       "      <th>VD_bin</th>\n",
       "    </tr>\n",
       "  </thead>\n",
       "  <tbody>\n",
       "    <tr>\n",
       "      <th>0</th>\n",
       "      <td>0.004883</td>\n",
       "      <td>0.015259</td>\n",
       "      <td>0</td>\n",
       "      <td>0</td>\n",
       "    </tr>\n",
       "    <tr>\n",
       "      <th>1</th>\n",
       "      <td>0.001526</td>\n",
       "      <td>0.024109</td>\n",
       "      <td>0</td>\n",
       "      <td>0</td>\n",
       "    </tr>\n",
       "    <tr>\n",
       "      <th>2</th>\n",
       "      <td>-0.010681</td>\n",
       "      <td>0.031128</td>\n",
       "      <td>0</td>\n",
       "      <td>0</td>\n",
       "    </tr>\n",
       "    <tr>\n",
       "      <th>3</th>\n",
       "      <td>-0.022278</td>\n",
       "      <td>0.041809</td>\n",
       "      <td>0</td>\n",
       "      <td>0</td>\n",
       "    </tr>\n",
       "    <tr>\n",
       "      <th>4</th>\n",
       "      <td>-0.028076</td>\n",
       "      <td>0.045471</td>\n",
       "      <td>0</td>\n",
       "      <td>0</td>\n",
       "    </tr>\n",
       "    <tr>\n",
       "      <th>...</th>\n",
       "      <td>...</td>\n",
       "      <td>...</td>\n",
       "      <td>...</td>\n",
       "      <td>...</td>\n",
       "    </tr>\n",
       "    <tr>\n",
       "      <th>19847695</th>\n",
       "      <td>-0.005798</td>\n",
       "      <td>0.017395</td>\n",
       "      <td>0</td>\n",
       "      <td>0</td>\n",
       "    </tr>\n",
       "    <tr>\n",
       "      <th>19847696</th>\n",
       "      <td>-0.007019</td>\n",
       "      <td>0.024109</td>\n",
       "      <td>0</td>\n",
       "      <td>0</td>\n",
       "    </tr>\n",
       "    <tr>\n",
       "      <th>19847697</th>\n",
       "      <td>-0.000916</td>\n",
       "      <td>0.029602</td>\n",
       "      <td>0</td>\n",
       "      <td>0</td>\n",
       "    </tr>\n",
       "    <tr>\n",
       "      <th>19847698</th>\n",
       "      <td>0.007324</td>\n",
       "      <td>0.039368</td>\n",
       "      <td>0</td>\n",
       "      <td>0</td>\n",
       "    </tr>\n",
       "    <tr>\n",
       "      <th>19847699</th>\n",
       "      <td>0.004272</td>\n",
       "      <td>0.049438</td>\n",
       "      <td>0</td>\n",
       "      <td>0</td>\n",
       "    </tr>\n",
       "  </tbody>\n",
       "</table>\n",
       "<p>19847700 rows × 4 columns</p>\n",
       "</div>"
      ],
      "text/plain": [
       "                LP        VD  LP_bin  VD_bin\n",
       "0         0.004883  0.015259       0       0\n",
       "1         0.001526  0.024109       0       0\n",
       "2        -0.010681  0.031128       0       0\n",
       "3        -0.022278  0.041809       0       0\n",
       "4        -0.028076  0.045471       0       0\n",
       "...            ...       ...     ...     ...\n",
       "19847695 -0.005798  0.017395       0       0\n",
       "19847696 -0.007019  0.024109       0       0\n",
       "19847697 -0.000916  0.029602       0       0\n",
       "19847698  0.007324  0.039368       0       0\n",
       "19847699  0.004272  0.049438       0       0\n",
       "\n",
       "[19847700 rows x 4 columns]"
      ]
     },
     "execution_count": 6,
     "metadata": {},
     "output_type": "execute_result"
    }
   ],
   "source": [
    "df"
   ]
  },
  {
   "cell_type": "code",
   "execution_count": 7,
   "metadata": {},
   "outputs": [
    {
     "data": {
      "text/plain": [
       "Index(['LP', 'VD', 'LP_bin', 'VD_bin'], dtype='object')"
      ]
     },
     "execution_count": 7,
     "metadata": {},
     "output_type": "execute_result"
    }
   ],
   "source": [
    "df.columns"
   ]
  },
  {
   "cell_type": "code",
   "execution_count": null,
   "metadata": {},
   "outputs": [
    {
     "data": {
      "text/plain": [
       "<matplotlib.collections.LineCollection at 0x7f9a2c50ed90>"
      ]
     },
     "execution_count": 16,
     "metadata": {},
     "output_type": "execute_result"
    }
   ],
   "source": [
    "df.head(20000)[['LP']].plot(figsize=(100,100))\n",
    "plt.hlines(0.30, xmin=0, xmax=10000)"
   ]
  },
  {
   "cell_type": "code",
   "execution_count": null,
   "metadata": {},
   "outputs": [],
   "source": [
    "col = df[col]\n",
    "f_pico = -1\n",
    "t_start = 0,3\n",
    "t_end = 0.1\n",
    "col_bin = pd.Series(len(col)) = 0\n",
    "for i in len(col):\n",
    "    if i_pico < 0:\n",
    "        if col[i] >= t_start:\n",
    "            f_pico = i\n",
    "    else:\n",
    "        if col[i] <= t_end:\n",
    "            imax = col.iloc[i_pico:i].imax()\n",
    "            col_bin[imax(+i_pico)] = 1\n",
    "            i_pico =-1\n",
    "                \n"
   ]
  }
 ],
 "metadata": {
  "kernelspec": {
   "display_name": "Python 3",
   "language": "python",
   "name": "python3"
  },
  "language_info": {
   "codemirror_mode": {
    "name": "ipython",
    "version": 3
   },
   "file_extension": ".py",
   "mimetype": "text/x-python",
   "name": "python",
   "nbconvert_exporter": "python",
   "pygments_lexer": "ipython3",
   "version": "3.8.5"
  }
 },
 "nbformat": 4,
 "nbformat_minor": 4
}
